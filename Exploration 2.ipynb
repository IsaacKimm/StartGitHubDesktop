{
 "cells": [
  {
   "cell_type": "markdown",
   "id": "c73d3a98",
   "metadata": {},
   "source": [
    "손글씨"
   ]
  },
  {
   "cell_type": "code",
   "execution_count": 1,
   "id": "de26146c",
   "metadata": {},
   "outputs": [],
   "source": [
    "from sklearn.datasets import load_digits\n",
    "from sklearn.model_selection import train_test_split\n",
    "from sklearn.metrics import classification_report\n",
    "from sklearn.metrics import accuracy_score\n",
    "import numpy as np"
   ]
  },
  {
   "cell_type": "code",
   "execution_count": 3,
   "id": "0f87979c",
   "metadata": {},
   "outputs": [],
   "source": [
    "digits = load_digits()"
   ]
  },
  {
   "cell_type": "code",
   "execution_count": 5,
   "id": "05a31a7b",
   "metadata": {},
   "outputs": [
    {
     "name": "stdout",
     "output_type": "stream",
     "text": [
      "[0 1 2 ... 8 9 8]\n"
     ]
    }
   ],
   "source": [
    "digits_label = digits.target\n",
    "print(digits_label)"
   ]
  },
  {
   "cell_type": "code",
   "execution_count": 6,
   "id": "35810abe",
   "metadata": {},
   "outputs": [
    {
     "name": "stdout",
     "output_type": "stream",
     "text": [
      "[0 1 2 3 4 5 6 7 8 9]\n"
     ]
    }
   ],
   "source": [
    "print(digits.target_names)"
   ]
  },
  {
   "cell_type": "code",
   "execution_count": 7,
   "id": "fdf0a661",
   "metadata": {},
   "outputs": [
    {
     "name": "stdout",
     "output_type": "stream",
     "text": [
      "[[ 0.  0.  5. 13.  9.  1.  0.  0.]\n",
      " [ 0.  0. 13. 15. 10. 15.  5.  0.]\n",
      " [ 0.  3. 15.  2.  0. 11.  8.  0.]\n",
      " [ 0.  4. 12.  0.  0.  8.  8.  0.]\n",
      " [ 0.  5.  8.  0.  0.  9.  8.  0.]\n",
      " [ 0.  4. 11.  0.  1. 12.  7.  0.]\n",
      " [ 0.  2. 14.  5. 10. 12.  0.  0.]\n",
      " [ 0.  0.  6. 13. 10.  0.  0.  0.]]\n"
     ]
    }
   ],
   "source": [
    "digits_images = digits.images\n",
    "print(digits_images[0])"
   ]
  },
  {
   "cell_type": "code",
   "execution_count": 8,
   "id": "5b29f81c",
   "metadata": {},
   "outputs": [],
   "source": [
    "x_train, x_test, y_train, y_test = train_test_split(digits_data, digits_label, test_size=0.3, random_state=30)"
   ]
  },
  {
   "cell_type": "code",
   "execution_count": 10,
   "id": "6bc25d23",
   "metadata": {},
   "outputs": [
    {
     "name": "stdout",
     "output_type": "stream",
     "text": [
      "(1257, 64) (1257,)\n",
      "(540, 64) (540,)\n"
     ]
    }
   ],
   "source": [
    "print(x_train.shape, y_train.shape)\n",
    "print(x_test.shape, y_test.shape)"
   ]
  },
  {
   "cell_type": "code",
   "execution_count": 62,
   "id": "0eb11d97",
   "metadata": {},
   "outputs": [
    {
     "name": "stdout",
     "output_type": "stream",
     "text": [
      "classifier\n",
      "DecisionTreeClassifier 분류 모델이다.\n",
      "\n",
      "\n",
      "정답률 : 0.9298245614035088\n",
      "\n",
      "\n",
      "              precision    recall  f1-score   support\n",
      "\n",
      "           0       0.89      0.92      0.90        62\n",
      "           1       0.95      0.94      0.94       109\n",
      "\n",
      "    accuracy                           0.93       171\n",
      "   macro avg       0.92      0.93      0.92       171\n",
      "weighted avg       0.93      0.93      0.93       171\n",
      "\n"
     ]
    }
   ],
   "source": [
    "from sklearn.tree import DecisionTreeClassifier\n",
    "\n",
    "decision_tree = DecisionTreeClassifier(random_state=30)\n",
    "print(decision_tree._estimator_type)\n",
    "print('DecisionTreeClassifier 분류 모델이다.')\n",
    "\n",
    "decision_tree.fit(x_train, y_train)\n",
    "\n",
    "y_pred_decision = decision_tree.predict(x_test)\n",
    "\n",
    "print('\\n')\n",
    "print('정답률 :', accuracy_score(y_test, y_pred_decision))\n",
    "\n",
    "print('\\n')\n",
    "print(classification_report(y_test, y_pred_decision))"
   ]
  },
  {
   "cell_type": "code",
   "execution_count": 61,
   "id": "d5d862cd",
   "metadata": {},
   "outputs": [
    {
     "name": "stdout",
     "output_type": "stream",
     "text": [
      "classifier\n",
      "RandomForestClassifier 분류 모델이다.\n",
      "\n",
      "\n",
      "정답률 : 0.9649122807017544\n",
      "\n",
      "\n",
      "              precision    recall  f1-score   support\n",
      "\n",
      "           0       0.98      0.92      0.95        62\n",
      "           1       0.96      0.99      0.97       109\n",
      "\n",
      "    accuracy                           0.96       171\n",
      "   macro avg       0.97      0.96      0.96       171\n",
      "weighted avg       0.97      0.96      0.96       171\n",
      "\n"
     ]
    }
   ],
   "source": [
    "from sklearn.ensemble import RandomForestClassifier\n",
    "\n",
    "random_forest = RandomForestClassifier(random_state=30)\n",
    "print(random_forest._estimator_type)\n",
    "print('RandomForestClassifier 분류 모델이다.')\n",
    "\n",
    "random_forest.fit(x_train, y_train)\n",
    "\n",
    "y_pred_random = random_forest.predict(x_test)\n",
    "\n",
    "print('\\n')\n",
    "print('정답률 :', accuracy_score(y_test, y_pred_random))\n",
    "\n",
    "print('\\n')\n",
    "print(classification_report(y_test, y_pred_random))"
   ]
  },
  {
   "cell_type": "code",
   "execution_count": 16,
   "id": "d1b78935",
   "metadata": {},
   "outputs": [
    {
     "name": "stdout",
     "output_type": "stream",
     "text": [
      "classifier\n",
      "Support Vector Machine 분류 모델이다.\n",
      "\n",
      "\n",
      "정답률 : 0.9851851851851852\n",
      "\n",
      "\n",
      "              precision    recall  f1-score   support\n",
      "\n",
      "           0       1.00      0.98      0.99        58\n",
      "           1       0.98      1.00      0.99        57\n",
      "           2       0.98      1.00      0.99        61\n",
      "           3       0.98      0.96      0.97        45\n",
      "           4       0.98      0.98      0.98        58\n",
      "           5       0.98      1.00      0.99        55\n",
      "           6       1.00      0.98      0.99        60\n",
      "           7       1.00      1.00      1.00        49\n",
      "           8       0.96      0.98      0.97        49\n",
      "           9       0.98      0.96      0.97        48\n",
      "\n",
      "    accuracy                           0.99       540\n",
      "   macro avg       0.98      0.98      0.98       540\n",
      "weighted avg       0.99      0.99      0.99       540\n",
      "\n"
     ]
    }
   ],
   "source": [
    "import sklearn.svm as svm\n",
    "\n",
    "svm = svm.SVC()\n",
    "print(svm._estimator_type)\n",
    "print('Support Vector Machine 분류 모델이다.')\n",
    "\n",
    "svm.fit(x_train, y_train)\n",
    "\n",
    "y_pred_svm = svm.predict(x_test)\n",
    "\n",
    "print('\\n')\n",
    "print('정답률 :', accuracy_score(y_test, y_pred_svm))\n",
    "\n",
    "print('\\n')\n",
    "print(classification_report(y_test, y_pred_svm))"
   ]
  },
  {
   "cell_type": "code",
   "execution_count": 17,
   "id": "ec5573dc",
   "metadata": {},
   "outputs": [
    {
     "name": "stdout",
     "output_type": "stream",
     "text": [
      "classifier\n",
      "Stochastic Gradient Descent 분류 모델이다.\n",
      "\n",
      "\n",
      "정답률 : 0.9537037037037037\n",
      "\n",
      "\n",
      "              precision    recall  f1-score   support\n",
      "\n",
      "           0       1.00      0.97      0.98        58\n",
      "           1       0.91      0.93      0.92        57\n",
      "           2       0.97      1.00      0.98        61\n",
      "           3       0.93      0.91      0.92        45\n",
      "           4       0.98      0.98      0.98        58\n",
      "           5       0.98      0.93      0.95        55\n",
      "           6       0.97      0.98      0.98        60\n",
      "           7       0.98      1.00      0.99        49\n",
      "           8       0.90      0.88      0.89        49\n",
      "           9       0.90      0.94      0.92        48\n",
      "\n",
      "    accuracy                           0.95       540\n",
      "   macro avg       0.95      0.95      0.95       540\n",
      "weighted avg       0.95      0.95      0.95       540\n",
      "\n"
     ]
    }
   ],
   "source": [
    "from sklearn.linear_model import SGDClassifier\n",
    "\n",
    "sgd = SGDClassifier()\n",
    "print(sgd._estimator_type)\n",
    "print('Stochastic Gradient Descent 분류 모델이다.')\n",
    "\n",
    "sgd.fit(x_train, y_train)\n",
    "\n",
    "y_pred_sgd = sgd.predict(x_test)\n",
    "\n",
    "print('\\n')\n",
    "print('정답률 :', accuracy_score(y_test, y_pred_sgd))\n",
    "\n",
    "print('\\n')\n",
    "print(classification_report(y_test, y_pred_sgd))"
   ]
  },
  {
   "cell_type": "code",
   "execution_count": 63,
   "id": "0cc8ee12",
   "metadata": {},
   "outputs": [
    {
     "name": "stdout",
     "output_type": "stream",
     "text": [
      "classifier\n",
      "LogisticRegression 분류 모델이다.\n",
      "\n",
      "\n",
      "정답률 : 0.9239766081871345\n",
      "\n",
      "\n",
      "              precision    recall  f1-score   support\n",
      "\n",
      "           0       0.92      0.87      0.89        62\n",
      "           1       0.93      0.95      0.94       109\n",
      "\n",
      "    accuracy                           0.92       171\n",
      "   macro avg       0.92      0.91      0.92       171\n",
      "weighted avg       0.92      0.92      0.92       171\n",
      "\n"
     ]
    }
   ],
   "source": [
    "from sklearn.linear_model import LogisticRegression\n",
    "\n",
    "logistic = LogisticRegression(max_iter=10000)\n",
    "print(logistic._estimator_type)\n",
    "print('LogisticRegression 분류 모델이다.')\n",
    "\n",
    "logistic.fit(x_train, y_train)\n",
    "\n",
    "y_pred_logistic = logistic.predict(x_test)\n",
    "\n",
    "from sklearn.metrics import accuracy_score\n",
    "print('\\n')\n",
    "print('정답률 :', accuracy_score(y_test, y_pred_logistic))\n",
    "\n",
    "print('\\n')\n",
    "print(classification_report(y_test, y_pred_logistic))"
   ]
  },
  {
   "cell_type": "markdown",
   "id": "3d412d51",
   "metadata": {},
   "source": [
    "와인"
   ]
  },
  {
   "cell_type": "code",
   "execution_count": 23,
   "id": "81e3fb73",
   "metadata": {},
   "outputs": [],
   "source": [
    "from sklearn.datasets import load_wine\n",
    "from sklearn.model_selection import train_test_split\n",
    "from sklearn.metrics import classification_report\n",
    "from sklearn.metrics import accuracy_score"
   ]
  },
  {
   "cell_type": "code",
   "execution_count": 24,
   "id": "ed97427d",
   "metadata": {},
   "outputs": [],
   "source": [
    "wine = load_wine()"
   ]
  },
  {
   "cell_type": "code",
   "execution_count": 25,
   "id": "93ea5dd3",
   "metadata": {},
   "outputs": [
    {
     "name": "stdout",
     "output_type": "stream",
     "text": [
      "[[1.423e+01 1.710e+00 2.430e+00 ... 1.040e+00 3.920e+00 1.065e+03]\n",
      " [1.320e+01 1.780e+00 2.140e+00 ... 1.050e+00 3.400e+00 1.050e+03]\n",
      " [1.316e+01 2.360e+00 2.670e+00 ... 1.030e+00 3.170e+00 1.185e+03]\n",
      " ...\n",
      " [1.327e+01 4.280e+00 2.260e+00 ... 5.900e-01 1.560e+00 8.350e+02]\n",
      " [1.317e+01 2.590e+00 2.370e+00 ... 6.000e-01 1.620e+00 8.400e+02]\n",
      " [1.413e+01 4.100e+00 2.740e+00 ... 6.100e-01 1.600e+00 5.600e+02]]\n"
     ]
    }
   ],
   "source": [
    "wine_data = wine.data\n",
    "print(wine_data)"
   ]
  },
  {
   "cell_type": "code",
   "execution_count": 26,
   "id": "e8a07b7d",
   "metadata": {},
   "outputs": [
    {
     "name": "stdout",
     "output_type": "stream",
     "text": [
      "[0 0 0 0 0 0 0 0 0 0 0 0 0 0 0 0 0 0 0 0 0 0 0 0 0 0 0 0 0 0 0 0 0 0 0 0 0\n",
      " 0 0 0 0 0 0 0 0 0 0 0 0 0 0 0 0 0 0 0 0 0 0 1 1 1 1 1 1 1 1 1 1 1 1 1 1 1\n",
      " 1 1 1 1 1 1 1 1 1 1 1 1 1 1 1 1 1 1 1 1 1 1 1 1 1 1 1 1 1 1 1 1 1 1 1 1 1\n",
      " 1 1 1 1 1 1 1 1 1 1 1 1 1 1 1 1 1 1 1 2 2 2 2 2 2 2 2 2 2 2 2 2 2 2 2 2 2\n",
      " 2 2 2 2 2 2 2 2 2 2 2 2 2 2 2 2 2 2 2 2 2 2 2 2 2 2 2 2 2 2]\n"
     ]
    }
   ],
   "source": [
    "wine_label = wine.target\n",
    "print(wine_label)"
   ]
  },
  {
   "cell_type": "code",
   "execution_count": 29,
   "id": "5f6afe3f",
   "metadata": {},
   "outputs": [
    {
     "name": "stdout",
     "output_type": "stream",
     "text": [
      "['class_0' 'class_1' 'class_2']\n"
     ]
    }
   ],
   "source": [
    "print(wine.target_names)"
   ]
  },
  {
   "cell_type": "code",
   "execution_count": 30,
   "id": "68435933",
   "metadata": {},
   "outputs": [
    {
     "name": "stdout",
     "output_type": "stream",
     "text": [
      "[[ 0.  0.  5. 13.  9.  1.  0.  0.]\n",
      " [ 0.  0. 13. 15. 10. 15.  5.  0.]\n",
      " [ 0.  3. 15.  2.  0. 11.  8.  0.]\n",
      " [ 0.  4. 12.  0.  0.  8.  8.  0.]\n",
      " [ 0.  5.  8.  0.  0.  9.  8.  0.]\n",
      " [ 0.  4. 11.  0.  1. 12.  7.  0.]\n",
      " [ 0.  2. 14.  5. 10. 12.  0.  0.]\n",
      " [ 0.  0.  6. 13. 10.  0.  0.  0.]]\n"
     ]
    }
   ],
   "source": [
    "digits_images = digits.images\n",
    "print(digits_images[0])"
   ]
  },
  {
   "cell_type": "code",
   "execution_count": 31,
   "id": "56a9de95",
   "metadata": {},
   "outputs": [],
   "source": [
    "x_train, x_test, y_train, y_test = train_test_split(wine_data, wine_label, test_size=0.3, random_state=30)"
   ]
  },
  {
   "cell_type": "code",
   "execution_count": 32,
   "id": "6c68f943",
   "metadata": {},
   "outputs": [
    {
     "name": "stdout",
     "output_type": "stream",
     "text": [
      "(124, 13) (124,)\n",
      "(54, 13) (54,)\n"
     ]
    }
   ],
   "source": [
    "print(x_train.shape, y_train.shape)\n",
    "print(x_test.shape, y_test.shape)"
   ]
  },
  {
   "cell_type": "code",
   "execution_count": 64,
   "id": "ce4f9e70",
   "metadata": {},
   "outputs": [
    {
     "name": "stdout",
     "output_type": "stream",
     "text": [
      "classifier\n",
      "DecisionTreeClassifier 분류 모델이다.\n",
      "\n",
      "\n",
      "정답률 : 0.9298245614035088\n",
      "\n",
      "\n",
      "              precision    recall  f1-score   support\n",
      "\n",
      "           0       0.89      0.92      0.90        62\n",
      "           1       0.95      0.94      0.94       109\n",
      "\n",
      "    accuracy                           0.93       171\n",
      "   macro avg       0.92      0.93      0.92       171\n",
      "weighted avg       0.93      0.93      0.93       171\n",
      "\n"
     ]
    }
   ],
   "source": [
    "from sklearn.tree import DecisionTreeClassifier\n",
    "\n",
    "decision_tree = DecisionTreeClassifier(random_state=30)\n",
    "print(decision_tree._estimator_type)\n",
    "print('DecisionTreeClassifier 분류 모델이다.')\n",
    "\n",
    "decision_tree.fit(x_train, y_train)\n",
    "\n",
    "y_pred_decision = decision_tree.predict(x_test)\n",
    "\n",
    "print('\\n')\n",
    "print('정답률 :', accuracy_score(y_test, y_pred_decision))\n",
    "\n",
    "print('\\n')\n",
    "print(classification_report(y_test, y_pred_decision))"
   ]
  },
  {
   "cell_type": "code",
   "execution_count": 65,
   "id": "60c5e0d3",
   "metadata": {},
   "outputs": [
    {
     "name": "stdout",
     "output_type": "stream",
     "text": [
      "classifier\n",
      "RandomForestClassifier 분류 모델이다.\n",
      "\n",
      "\n",
      "정답률 : 0.9649122807017544\n",
      "\n",
      "\n",
      "              precision    recall  f1-score   support\n",
      "\n",
      "           0       0.98      0.92      0.95        62\n",
      "           1       0.96      0.99      0.97       109\n",
      "\n",
      "    accuracy                           0.96       171\n",
      "   macro avg       0.97      0.96      0.96       171\n",
      "weighted avg       0.97      0.96      0.96       171\n",
      "\n"
     ]
    }
   ],
   "source": [
    "from sklearn.ensemble import RandomForestClassifier\n",
    "\n",
    "random_forest = RandomForestClassifier(random_state=30)\n",
    "print(random_forest._estimator_type)\n",
    "print('RandomForestClassifier 분류 모델이다.')\n",
    "\n",
    "random_forest.fit(x_train, y_train)\n",
    "\n",
    "y_pred_random = random_forest.predict(x_test)\n",
    "\n",
    "print('\\n')\n",
    "print('정답률 :', accuracy_score(y_test, y_pred_random))\n",
    "\n",
    "print('\\n')\n",
    "print(classification_report(y_test, y_pred_random))"
   ]
  },
  {
   "cell_type": "code",
   "execution_count": 35,
   "id": "77680d6f",
   "metadata": {},
   "outputs": [
    {
     "name": "stdout",
     "output_type": "stream",
     "text": [
      "classifier\n",
      "Support Vector Machine 분류 모델이다.\n",
      "\n",
      "\n",
      "정답률 : 0.7222222222222222\n",
      "\n",
      "\n",
      "              precision    recall  f1-score   support\n",
      "\n",
      "           0       0.93      0.78      0.85        18\n",
      "           1       0.80      0.70      0.74        23\n",
      "           2       0.47      0.69      0.56        13\n",
      "\n",
      "    accuracy                           0.72        54\n",
      "   macro avg       0.74      0.72      0.72        54\n",
      "weighted avg       0.77      0.72      0.74        54\n",
      "\n"
     ]
    }
   ],
   "source": [
    "import sklearn.svm as svm\n",
    "\n",
    "svm = svm.SVC()\n",
    "print(svm._estimator_type)\n",
    "print('Support Vector Machine 분류 모델이다.')\n",
    "\n",
    "svm.fit(x_train, y_train)\n",
    "\n",
    "y_pred_svm = svm.predict(x_test)\n",
    "\n",
    "print('\\n')\n",
    "print('정답률 :', accuracy_score(y_test, y_pred_svm))\n",
    "\n",
    "print('\\n')\n",
    "print(classification_report(y_test, y_pred_svm))"
   ]
  },
  {
   "cell_type": "code",
   "execution_count": 36,
   "id": "ac812cfc",
   "metadata": {},
   "outputs": [
    {
     "name": "stdout",
     "output_type": "stream",
     "text": [
      "classifier\n",
      "Stochastic Gradient Descent 분류 모델이다.\n",
      "\n",
      "\n",
      "정답률 : 0.5370370370370371\n",
      "\n",
      "\n",
      "              precision    recall  f1-score   support\n",
      "\n",
      "           0       0.73      0.89      0.80        18\n",
      "           1       1.00      0.13      0.23        23\n",
      "           2       0.34      0.77      0.48        13\n",
      "\n",
      "    accuracy                           0.54        54\n",
      "   macro avg       0.69      0.60      0.50        54\n",
      "weighted avg       0.75      0.54      0.48        54\n",
      "\n"
     ]
    }
   ],
   "source": [
    "from sklearn.linear_model import SGDClassifier\n",
    "\n",
    "sgd = SGDClassifier()\n",
    "print(sgd._estimator_type)\n",
    "print('Stochastic Gradient Descent 분류 모델이다.')\n",
    "\n",
    "sgd.fit(x_train, y_train)\n",
    "\n",
    "y_pred_sgd = sgd.predict(x_test)\n",
    "\n",
    "print('\\n')\n",
    "print('정답률 :', accuracy_score(y_test, y_pred_sgd))\n",
    "\n",
    "print('\\n')\n",
    "print(classification_report(y_test, y_pred_sgd))"
   ]
  },
  {
   "cell_type": "code",
   "execution_count": 66,
   "id": "63b48d49",
   "metadata": {},
   "outputs": [
    {
     "name": "stdout",
     "output_type": "stream",
     "text": [
      "classifier\n",
      "LogisticRegression 분류 모델이다.\n",
      "\n",
      "\n",
      "정답률 : 0.9239766081871345\n",
      "\n",
      "\n",
      "              precision    recall  f1-score   support\n",
      "\n",
      "           0       0.92      0.87      0.89        62\n",
      "           1       0.93      0.95      0.94       109\n",
      "\n",
      "    accuracy                           0.92       171\n",
      "   macro avg       0.92      0.91      0.92       171\n",
      "weighted avg       0.92      0.92      0.92       171\n",
      "\n"
     ]
    }
   ],
   "source": [
    "from sklearn.linear_model import LogisticRegression\n",
    "\n",
    "logistic = LogisticRegression(max_iter=10000)\n",
    "print(logistic._estimator_type)\n",
    "print('LogisticRegression 분류 모델이다.')\n",
    "\n",
    "logistic.fit(x_train, y_train)\n",
    "\n",
    "y_pred_logistic = logistic.predict(x_test)\n",
    "\n",
    "from sklearn.metrics import accuracy_score\n",
    "print('\\n')\n",
    "print('정답률 :', accuracy_score(y_test, y_pred_logistic))\n",
    "\n",
    "print('\\n')\n",
    "print(classification_report(y_test, y_pred_logistic))"
   ]
  },
  {
   "cell_type": "markdown",
   "id": "64138f03",
   "metadata": {},
   "source": [
    "유방암"
   ]
  },
  {
   "cell_type": "code",
   "execution_count": 38,
   "id": "82bc1245",
   "metadata": {},
   "outputs": [],
   "source": [
    "from sklearn.datasets import load_breast_cancer\n",
    "from sklearn.model_selection import train_test_split\n",
    "from sklearn.metrics import classification_report\n",
    "from sklearn.metrics import accuracy_score"
   ]
  },
  {
   "cell_type": "code",
   "execution_count": 44,
   "id": "31a303e7",
   "metadata": {},
   "outputs": [],
   "source": [
    "breast_cancer = load_breast_cancer()"
   ]
  },
  {
   "cell_type": "code",
   "execution_count": 45,
   "id": "54bfd4d4",
   "metadata": {},
   "outputs": [
    {
     "name": "stdout",
     "output_type": "stream",
     "text": [
      "[[1.799e+01 1.038e+01 1.228e+02 ... 2.654e-01 4.601e-01 1.189e-01]\n",
      " [2.057e+01 1.777e+01 1.329e+02 ... 1.860e-01 2.750e-01 8.902e-02]\n",
      " [1.969e+01 2.125e+01 1.300e+02 ... 2.430e-01 3.613e-01 8.758e-02]\n",
      " ...\n",
      " [1.660e+01 2.808e+01 1.083e+02 ... 1.418e-01 2.218e-01 7.820e-02]\n",
      " [2.060e+01 2.933e+01 1.401e+02 ... 2.650e-01 4.087e-01 1.240e-01]\n",
      " [7.760e+00 2.454e+01 4.792e+01 ... 0.000e+00 2.871e-01 7.039e-02]]\n"
     ]
    }
   ],
   "source": [
    "breast_cancer_data = breast_cancer.data\n",
    "print(breast_cancer_data)"
   ]
  },
  {
   "cell_type": "code",
   "execution_count": 46,
   "id": "63cac996",
   "metadata": {},
   "outputs": [
    {
     "name": "stdout",
     "output_type": "stream",
     "text": [
      "[0 0 0 0 0 0 0 0 0 0 0 0 0 0 0 0 0 0 0 1 1 1 0 0 0 0 0 0 0 0 0 0 0 0 0 0 0\n",
      " 1 0 0 0 0 0 0 0 0 1 0 1 1 1 1 1 0 0 1 0 0 1 1 1 1 0 1 0 0 1 1 1 1 0 1 0 0\n",
      " 1 0 1 0 0 1 1 1 0 0 1 0 0 0 1 1 1 0 1 1 0 0 1 1 1 0 0 1 1 1 1 0 1 1 0 1 1\n",
      " 1 1 1 1 1 1 0 0 0 1 0 0 1 1 1 0 0 1 0 1 0 0 1 0 0 1 1 0 1 1 0 1 1 1 1 0 1\n",
      " 1 1 1 1 1 1 1 1 0 1 1 1 1 0 0 1 0 1 1 0 0 1 1 0 0 1 1 1 1 0 1 1 0 0 0 1 0\n",
      " 1 0 1 1 1 0 1 1 0 0 1 0 0 0 0 1 0 0 0 1 0 1 0 1 1 0 1 0 0 0 0 1 1 0 0 1 1\n",
      " 1 0 1 1 1 1 1 0 0 1 1 0 1 1 0 0 1 0 1 1 1 1 0 1 1 1 1 1 0 1 0 0 0 0 0 0 0\n",
      " 0 0 0 0 0 0 0 1 1 1 1 1 1 0 1 0 1 1 0 1 1 0 1 0 0 1 1 1 1 1 1 1 1 1 1 1 1\n",
      " 1 0 1 1 0 1 0 1 1 1 1 1 1 1 1 1 1 1 1 1 1 0 1 1 1 0 1 0 1 1 1 1 0 0 0 1 1\n",
      " 1 1 0 1 0 1 0 1 1 1 0 1 1 1 1 1 1 1 0 0 0 1 1 1 1 1 1 1 1 1 1 1 0 0 1 0 0\n",
      " 0 1 0 0 1 1 1 1 1 0 1 1 1 1 1 0 1 1 1 0 1 1 0 0 1 1 1 1 1 1 0 1 1 1 1 1 1\n",
      " 1 0 1 1 1 1 1 0 1 1 0 1 1 1 1 1 1 1 1 1 1 1 1 0 1 0 0 1 0 1 1 1 1 1 0 1 1\n",
      " 0 1 0 1 1 0 1 0 1 1 1 1 1 1 1 1 0 0 1 1 1 1 1 1 0 1 1 1 1 1 1 1 1 1 1 0 1\n",
      " 1 1 1 1 1 1 0 1 0 1 1 0 1 1 1 1 1 0 0 1 0 1 0 1 1 1 1 1 0 1 1 0 1 0 1 0 0\n",
      " 1 1 1 0 1 1 1 1 1 1 1 1 1 1 1 0 1 0 0 1 1 1 1 1 1 1 1 1 1 1 1 1 1 1 1 1 1\n",
      " 1 1 1 1 1 1 1 0 0 0 0 0 0 1]\n"
     ]
    }
   ],
   "source": [
    "breast_cancer_label = breast_cancer.target\n",
    "print(breast_cancer_label)"
   ]
  },
  {
   "cell_type": "code",
   "execution_count": 48,
   "id": "7d2a46dc",
   "metadata": {},
   "outputs": [
    {
     "name": "stdout",
     "output_type": "stream",
     "text": [
      "['malignant' 'benign']\n"
     ]
    }
   ],
   "source": [
    "print(breast_cancer.target_names)"
   ]
  },
  {
   "cell_type": "code",
   "execution_count": 49,
   "id": "5d5ef492",
   "metadata": {},
   "outputs": [],
   "source": [
    "x_train, x_test, y_train, y_test = train_test_split(breast_cancer_data, breast_cancer_label, test_size=0.3, random_state=30)"
   ]
  },
  {
   "cell_type": "code",
   "execution_count": 50,
   "id": "b40ae415",
   "metadata": {},
   "outputs": [
    {
     "name": "stdout",
     "output_type": "stream",
     "text": [
      "(398, 30) (398,)\n",
      "(171, 30) (171,)\n"
     ]
    }
   ],
   "source": [
    "print(x_train.shape, y_train.shape)\n",
    "print(x_test.shape, y_test.shape)"
   ]
  },
  {
   "cell_type": "code",
   "execution_count": 67,
   "id": "ba1e6718",
   "metadata": {},
   "outputs": [
    {
     "name": "stdout",
     "output_type": "stream",
     "text": [
      "classifier\n",
      "DecisionTreeClassifier 분류 모델이다.\n",
      "\n",
      "\n",
      "정답률 : 0.9298245614035088\n",
      "\n",
      "\n",
      "              precision    recall  f1-score   support\n",
      "\n",
      "           0       0.89      0.92      0.90        62\n",
      "           1       0.95      0.94      0.94       109\n",
      "\n",
      "    accuracy                           0.93       171\n",
      "   macro avg       0.92      0.93      0.92       171\n",
      "weighted avg       0.93      0.93      0.93       171\n",
      "\n"
     ]
    }
   ],
   "source": [
    "from sklearn.tree import DecisionTreeClassifier\n",
    "\n",
    "decision_tree = DecisionTreeClassifier(random_state=30)\n",
    "print(decision_tree._estimator_type)\n",
    "print('DecisionTreeClassifier 분류 모델이다.')\n",
    "\n",
    "decision_tree.fit(x_train, y_train)\n",
    "\n",
    "y_pred_decision = decision_tree.predict(x_test)\n",
    "\n",
    "print('\\n')\n",
    "print('정답률 :', accuracy_score(y_test, y_pred_decision))\n",
    "\n",
    "print('\\n')\n",
    "print(classification_report(y_test, y_pred_decision))"
   ]
  },
  {
   "cell_type": "code",
   "execution_count": 68,
   "id": "e7edd116",
   "metadata": {},
   "outputs": [
    {
     "name": "stdout",
     "output_type": "stream",
     "text": [
      "classifier\n",
      "RandomForestClassifier 분류 모델이다.\n",
      "\n",
      "\n",
      "정답률 : 0.9649122807017544\n",
      "\n",
      "\n",
      "              precision    recall  f1-score   support\n",
      "\n",
      "           0       0.98      0.92      0.95        62\n",
      "           1       0.96      0.99      0.97       109\n",
      "\n",
      "    accuracy                           0.96       171\n",
      "   macro avg       0.97      0.96      0.96       171\n",
      "weighted avg       0.97      0.96      0.96       171\n",
      "\n"
     ]
    }
   ],
   "source": [
    "from sklearn.ensemble import RandomForestClassifier\n",
    "\n",
    "random_forest = RandomForestClassifier(random_state=30)\n",
    "print(random_forest._estimator_type)\n",
    "print('RandomForestClassifier 분류 모델이다.')\n",
    "\n",
    "random_forest.fit(x_train, y_train)\n",
    "\n",
    "y_pred_random = random_forest.predict(x_test)\n",
    "\n",
    "print('\\n')\n",
    "print('정답률 :', accuracy_score(y_test, y_pred_random))\n",
    "\n",
    "print('\\n')\n",
    "print(classification_report(y_test, y_pred_random))"
   ]
  },
  {
   "cell_type": "code",
   "execution_count": 55,
   "id": "1e4976e5",
   "metadata": {},
   "outputs": [
    {
     "name": "stdout",
     "output_type": "stream",
     "text": [
      "classifier\n",
      "Support Vector Machine 분류 모델이다.\n",
      "\n",
      "\n",
      "정답률 : 0.9122807017543859\n",
      "\n",
      "\n",
      "              precision    recall  f1-score   support\n",
      "\n",
      "           0       0.98      0.77      0.86        62\n",
      "           1       0.89      0.99      0.94       109\n",
      "\n",
      "    accuracy                           0.91       171\n",
      "   macro avg       0.93      0.88      0.90       171\n",
      "weighted avg       0.92      0.91      0.91       171\n",
      "\n"
     ]
    }
   ],
   "source": [
    "import sklearn.svm as svm\n",
    "\n",
    "svm = svm.SVC()\n",
    "print(svm._estimator_type)\n",
    "print('Support Vector Machine 분류 모델이다.')\n",
    "\n",
    "svm.fit(x_train, y_train)\n",
    "\n",
    "y_pred_svm = svm.predict(x_test)\n",
    "\n",
    "print('\\n')\n",
    "print('정답률 :', accuracy_score(y_test, y_pred_svm))\n",
    "\n",
    "print('\\n')\n",
    "print(classification_report(y_test, y_pred_svm))"
   ]
  },
  {
   "cell_type": "code",
   "execution_count": 56,
   "id": "f9d13196",
   "metadata": {},
   "outputs": [
    {
     "name": "stdout",
     "output_type": "stream",
     "text": [
      "classifier\n",
      "Stochastic Gradient Descent 분류 모델이다.\n",
      "\n",
      "\n",
      "정답률 : 0.9064327485380117\n",
      "\n",
      "\n",
      "              precision    recall  f1-score   support\n",
      "\n",
      "           0       0.98      0.76      0.85        62\n",
      "           1       0.88      0.99      0.93       109\n",
      "\n",
      "    accuracy                           0.91       171\n",
      "   macro avg       0.93      0.87      0.89       171\n",
      "weighted avg       0.91      0.91      0.90       171\n",
      "\n"
     ]
    }
   ],
   "source": [
    "from sklearn.linear_model import SGDClassifier\n",
    "\n",
    "sgd = SGDClassifier()\n",
    "print(sgd._estimator_type)\n",
    "print('Stochastic Gradient Descent 분류 모델이다.')\n",
    "\n",
    "sgd.fit(x_train, y_train)\n",
    "\n",
    "y_pred_sgd = sgd.predict(x_test)\n",
    "\n",
    "print('\\n')\n",
    "print('정답률 :', accuracy_score(y_test, y_pred_sgd))\n",
    "\n",
    "print('\\n')\n",
    "print(classification_report(y_test, y_pred_sgd))"
   ]
  },
  {
   "cell_type": "code",
   "execution_count": 57,
   "id": "1712a781",
   "metadata": {},
   "outputs": [
    {
     "name": "stdout",
     "output_type": "stream",
     "text": [
      "classifier\n",
      "LogisticRegression 분류 모델이다.\n",
      "\n",
      "\n",
      "정답률 : 0.9239766081871345\n",
      "\n",
      "\n",
      "              precision    recall  f1-score   support\n",
      "\n",
      "           0       0.92      0.87      0.89        62\n",
      "           1       0.93      0.95      0.94       109\n",
      "\n",
      "    accuracy                           0.92       171\n",
      "   macro avg       0.92      0.91      0.92       171\n",
      "weighted avg       0.92      0.92      0.92       171\n",
      "\n"
     ]
    }
   ],
   "source": [
    "logistic = LogisticRegression(max_iter=10000)\n",
    "print(logistic._estimator_type)\n",
    "print('LogisticRegression 분류 모델이다.')\n",
    "\n",
    "logistic.fit(x_train, y_train)\n",
    "\n",
    "y_pred_logistic = logistic.predict(x_test)\n",
    "\n",
    "from sklearn.metrics import accuracy_score\n",
    "print('\\n')\n",
    "print('정답률 :', accuracy_score(y_test, y_pred_logistic))\n",
    "\n",
    "print('\\n')\n",
    "print(classification_report(y_test, y_pred_logistic))\n"
   ]
  },
  {
   "cell_type": "markdown",
   "id": "9f8436f1",
   "metadata": {},
   "source": [
    "회고\n",
    "\n",
    "처음 시도하는 프로젝트라서 매우 어려웠습니다. "
   ]
  }
 ],
 "metadata": {
  "kernelspec": {
   "display_name": "Python 3 (ipykernel)",
   "language": "python",
   "name": "python3"
  },
  "language_info": {
   "codemirror_mode": {
    "name": "ipython",
    "version": 3
   },
   "file_extension": ".py",
   "mimetype": "text/x-python",
   "name": "python",
   "nbconvert_exporter": "python",
   "pygments_lexer": "ipython3",
   "version": "3.9.7"
  }
 },
 "nbformat": 4,
 "nbformat_minor": 5
}
