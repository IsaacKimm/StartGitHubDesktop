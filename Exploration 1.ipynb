{
 "cells": [
  {
   "cell_type": "code",
   "execution_count": 1,
   "id": "bed610e9",
   "metadata": {},
   "outputs": [],
   "source": [
    "# 라이브러리 불러오기\n",
    "from PIL import Image\n",
    "import glob\n",
    "import matplotlib.pyplot as plt\n",
    "import os\n",
    "import numpy as np\n",
    "import tensorflow as tf\n",
    "from tensorflow import keras"
   ]
  },
  {
   "cell_type": "code",
   "execution_count": 3,
   "id": "dd754fb1",
   "metadata": {},
   "outputs": [
    {
     "name": "stdout",
     "output_type": "stream",
     "text": [
      "81  images to be resized.\n",
      "81  images resized.\n",
      "가위 이미지 resize 완료!\n"
     ]
    }
   ],
   "source": [
    "def resize_images(img_path):\n",
    "\timages=glob.glob(img_path + \"/*.jpg\")  \n",
    "    \n",
    "\tprint(len(images), \" images to be resized.\")\n",
    "\n",
    "    # 파일마다 모두 28x28 사이즈로 바꾸어 저장합니다.\n",
    "\ttarget_size=(28,28)\n",
    "\tfor img in images:\n",
    "\t\told_img=Image.open(img)\n",
    "\t\tnew_img=old_img.resize(target_size,Image.ANTIALIAS)\n",
    "\t\tnew_img.save(img, \"JPEG\")\n",
    "    \n",
    "\tprint(len(images), \" images resized.\")\n",
    "\t\n",
    "# 가위 이미지가 저장된 디렉토리 아래의 모든 jpg 파일을 읽어들여서\n",
    "image_dir_path = os.getenv(\"HOME\") + \"/aiffel/rock_scissor_paper/scissor\"\n",
    "resize_images(image_dir_path)\n",
    "\n",
    "print(\"가위 이미지 resize 완료!\")"
   ]
  },
  {
   "cell_type": "code",
   "execution_count": 4,
   "id": "66e1b687",
   "metadata": {},
   "outputs": [
    {
     "name": "stdout",
     "output_type": "stream",
     "text": [
      "95  images to be resized.\n",
      "95  images resized.\n",
      "바위 이미지 resize 완료!\n"
     ]
    }
   ],
   "source": [
    "def resize_images(img_path):\n",
    "\timages=glob.glob(img_path + \"/*.jpg\")  \n",
    "    \n",
    "\tprint(len(images), \" images to be resized.\")\n",
    "\n",
    "    # 파일마다 모두 28x28 사이즈로 바꾸어 저장합니다.\n",
    "\ttarget_size=(28,28)\n",
    "\tfor img in images:\n",
    "\t\told_img=Image.open(img)\n",
    "\t\tnew_img=old_img.resize(target_size,Image.ANTIALIAS)\n",
    "\t\tnew_img.save(img, \"JPEG\")\n",
    "    \n",
    "\tprint(len(images), \" images resized.\")\n",
    "\t\n",
    "# 바위 이미지가 저장된 디렉토리 아래의 모든 jpg 파일을 읽어들여서\n",
    "image_dir_path = os.getenv(\"HOME\") + \"/aiffel/rock_scissor_paper/rock\"\n",
    "resize_images(image_dir_path)\n",
    "\n",
    "print(\"바위 이미지 resize 완료!\")"
   ]
  },
  {
   "cell_type": "code",
   "execution_count": 5,
   "id": "5d6bc2df",
   "metadata": {},
   "outputs": [
    {
     "name": "stdout",
     "output_type": "stream",
     "text": [
      "138  images to be resized.\n",
      "138  images resized.\n",
      "보 이미지 resize 완료!\n"
     ]
    }
   ],
   "source": [
    "def resize_images(img_path):\n",
    "\timages=glob.glob(img_path + \"/*.jpg\")  \n",
    "    \n",
    "\tprint(len(images), \" images to be resized.\")\n",
    "\n",
    "    # 파일마다 모두 28x28 사이즈로 바꾸어 저장합니다.\n",
    "\ttarget_size=(28,28)\n",
    "\tfor img in images:\n",
    "\t\told_img=Image.open(img)\n",
    "\t\tnew_img=old_img.resize(target_size,Image.ANTIALIAS)\n",
    "\t\tnew_img.save(img, \"JPEG\")\n",
    "    \n",
    "\tprint(len(images), \" images resized.\")\n",
    "\t\n",
    "# 가위 이미지가 저장된 디렉토리 아래의 모든 jpg 파일을 읽어들여서\n",
    "image_dir_path = os.getenv(\"HOME\") + \"/aiffel/rock_scissor_paper/paper\"\n",
    "resize_images(image_dir_path)\n",
    "\n",
    "print(\"보 이미지 resize 완료!\")"
   ]
  },
  {
   "cell_type": "code",
   "execution_count": 23,
   "id": "3b4cf62f",
   "metadata": {},
   "outputs": [
    {
     "name": "stdout",
     "output_type": "stream",
     "text": [
      "학습데이터(x_train)의 이미지 개수는 314 입니다.\n",
      "x_train shape: (314, 28, 28, 3)\n",
      "y_train shape: (314,)\n"
     ]
    }
   ],
   "source": [
    "import numpy as np\n",
    "\n",
    "def load_data(img_path, number_of_data=314):  # 가위바위보 이미지 개수 총합에 주의하세요.\n",
    "    # 가위 : 0, 바위 : 1, 보 : 2\n",
    "    img_size=28\n",
    "    color=3\n",
    "    #이미지 데이터와 라벨(가위 : 0, 바위 : 1, 보 : 2) 데이터를 담을 행렬(matrix) 영역을 생성합니다.\n",
    "    imgs=np.zeros(number_of_data*img_size*img_size*color,dtype=np.int32).reshape(number_of_data,img_size,img_size,color)\n",
    "    labels=np.zeros(number_of_data,dtype=np.int32)\n",
    "\n",
    "    idx=0\n",
    "    for file in glob.iglob(img_path+'/scissor/*.jpg'):\n",
    "        img = np.array(Image.open(file),dtype=np.int32)\n",
    "        imgs[idx,:,:,:]=img    # 데이터 영역에 이미지 행렬을 복사\n",
    "        labels[idx]=0   # 가위 : 0\n",
    "        idx=idx+1\n",
    "\n",
    "    for file in glob.iglob(img_path+'/rock/*.jpg'):\n",
    "        img = np.array(Image.open(file),dtype=np.int32)\n",
    "        imgs[idx,:,:,:]=img    # 데이터 영역에 이미지 행렬을 복사\n",
    "        labels[idx]=1   # 바위 : 1\n",
    "        idx=idx+1  \n",
    "    \n",
    "    for file in glob.iglob(img_path+'/paper/*.jpg'):\n",
    "        img = np.array(Image.open(file),dtype=np.int32)\n",
    "        imgs[idx,:,:,:]=img    # 데이터 영역에 이미지 행렬을 복사\n",
    "        labels[idx]=2   # 보 : 2\n",
    "        idx=idx+1\n",
    "        \n",
    "    print(\"학습데이터(x_train)의 이미지 개수는\", idx,\"입니다.\")\n",
    "    return imgs, labels\n",
    "\n",
    "image_dir_path = os.getenv(\"HOME\") + \"/aiffel/rock_scissor_paper\"\n",
    "(x_train, y_train)=load_data(image_dir_path)\n",
    "x_train_norm = x_train/255.0   # 입력은 0~1 사이의 값으로 정규화\n",
    "\n",
    "print(\"x_train shape: {}\".format(x_train.shape))\n",
    "print(\"y_train shape: {}\".format(y_train.shape))"
   ]
  },
  {
   "cell_type": "code",
   "execution_count": 24,
   "id": "b9f52b42",
   "metadata": {},
   "outputs": [
    {
     "name": "stdout",
     "output_type": "stream",
     "text": [
      "라벨:  0\n"
     ]
    },
    {
     "data": {
      "image/png": "[encoded data removed]",
      "text/plain": [
       "<Figure size 432x288 with 1 Axes>"
      ]
     },
     "metadata": {
      "needs_background": "light"
     },
     "output_type": "display_data"
    }
   ],
   "source": [
    "plt.imshow(x_train[0])\n",
    "print('라벨: ', y_train[0])"
   ]
  },
  {
   "cell_type": "code",
   "execution_count": 25,
   "id": "0ba5247c",
   "metadata": {},
   "outputs": [
    {
     "name": "stdout",
     "output_type": "stream",
     "text": [
      "Model: \"sequential\"\n",
      "_________________________________________________________________\n",
      "Layer (type)                 Output Shape              Param #   \n",
      "=================================================================\n",
      "conv2d (Conv2D)              (None, 26, 26, 64)        1792      \n",
      "_________________________________________________________________\n",
      "max_pooling2d (MaxPooling2D) (None, 13, 13, 64)        0         \n",
      "_________________________________________________________________\n",
      "conv2d_1 (Conv2D)            (None, 11, 11, 128)       73856     \n",
      "_________________________________________________________________\n",
      "max_pooling2d_1 (MaxPooling2 (None, 5, 5, 128)         0         \n",
      "_________________________________________________________________\n",
      "flatten (Flatten)            (None, 3200)              0         \n",
      "_________________________________________________________________\n",
      "dense (Dense)                (None, 16)                51216     \n",
      "_________________________________________________________________\n",
      "dense_1 (Dense)              (None, 10)                170       \n",
      "=================================================================\n",
      "Total params: 127,034\n",
      "Trainable params: 127,034\n",
      "Non-trainable params: 0\n",
      "_________________________________________________________________\n"
     ]
    }
   ],
   "source": [
    "import tensorflow as tf\n",
    "from tensorflow import keras\n",
    "import numpy as np\n",
    "\n",
    "model.summary()"
   ]
  },
  {
   "cell_type": "code",
   "execution_count": 27,
   "id": "210716ad",
   "metadata": {},
   "outputs": [
    {
     "name": "stdout",
     "output_type": "stream",
     "text": [
      "Epoch 1/30\n",
      "7/7 [==============================] - 0s 10ms/step - loss: 1.7293 - accuracy: 0.3242 - val_loss: 3.4375 - val_accuracy: 0.0000e+00\n",
      "Epoch 2/30\n",
      "7/7 [==============================] - 0s 6ms/step - loss: 1.2469 - accuracy: 0.4201 - val_loss: 1.7152 - val_accuracy: 0.0000e+00\n",
      "Epoch 3/30\n",
      "7/7 [==============================] - 0s 6ms/step - loss: 1.0148 - accuracy: 0.5616 - val_loss: 1.1918 - val_accuracy: 0.0000e+00\n",
      "Epoch 4/30\n",
      "7/7 [==============================] - 0s 6ms/step - loss: 0.9351 - accuracy: 0.6301 - val_loss: 1.0020 - val_accuracy: 0.0000e+00\n",
      "Epoch 5/30\n",
      "7/7 [==============================] - 0s 6ms/step - loss: 0.8059 - accuracy: 0.7123 - val_loss: 1.3040 - val_accuracy: 0.0000e+00\n",
      "Epoch 6/30\n",
      "7/7 [==============================] - 0s 8ms/step - loss: 0.6193 - accuracy: 0.7945 - val_loss: 1.3898 - val_accuracy: 0.0000e+00\n",
      "Epoch 7/30\n",
      "7/7 [==============================] - 0s 7ms/step - loss: 0.4310 - accuracy: 0.8128 - val_loss: 0.8933 - val_accuracy: 0.2105\n",
      "Epoch 8/30\n",
      "7/7 [==============================] - 0s 6ms/step - loss: 0.3712 - accuracy: 0.8356 - val_loss: 0.8822 - val_accuracy: 0.2842\n",
      "Epoch 9/30\n",
      "7/7 [==============================] - 0s 6ms/step - loss: 0.3433 - accuracy: 0.8311 - val_loss: 1.1177 - val_accuracy: 0.1895\n",
      "Epoch 10/30\n",
      "7/7 [==============================] - 0s 6ms/step - loss: 0.3347 - accuracy: 0.9178 - val_loss: 0.5795 - val_accuracy: 0.7789\n",
      "Epoch 11/30\n",
      "7/7 [==============================] - 0s 6ms/step - loss: 0.3159 - accuracy: 0.8630 - val_loss: 0.9385 - val_accuracy: 0.6737\n",
      "Epoch 12/30\n",
      "7/7 [==============================] - 0s 6ms/step - loss: 0.3578 - accuracy: 0.8037 - val_loss: 0.6907 - val_accuracy: 0.6316\n",
      "Epoch 13/30\n",
      "7/7 [==============================] - 0s 6ms/step - loss: 0.3150 - accuracy: 0.8767 - val_loss: 1.2276 - val_accuracy: 0.2211\n",
      "Epoch 14/30\n",
      "7/7 [==============================] - 0s 6ms/step - loss: 0.3126 - accuracy: 0.8493 - val_loss: 0.7685 - val_accuracy: 0.5895\n",
      "Epoch 15/30\n",
      "7/7 [==============================] - 0s 6ms/step - loss: 0.3196 - accuracy: 0.8493 - val_loss: 0.5462 - val_accuracy: 0.7263\n",
      "Epoch 16/30\n",
      "7/7 [==============================] - 0s 6ms/step - loss: 0.2582 - accuracy: 0.9269 - val_loss: 0.5525 - val_accuracy: 0.8526\n",
      "Epoch 17/30\n",
      "7/7 [==============================] - 0s 7ms/step - loss: 0.2423 - accuracy: 0.9315 - val_loss: 1.0024 - val_accuracy: 0.2737\n",
      "Epoch 18/30\n",
      "7/7 [==============================] - 0s 6ms/step - loss: 0.2349 - accuracy: 0.9269 - val_loss: 0.7281 - val_accuracy: 0.6316\n",
      "Epoch 19/30\n",
      "7/7 [==============================] - 0s 6ms/step - loss: 0.2213 - accuracy: 0.9406 - val_loss: 0.4174 - val_accuracy: 0.9263\n",
      "Epoch 20/30\n",
      "7/7 [==============================] - 0s 7ms/step - loss: 0.2026 - accuracy: 0.9635 - val_loss: 0.4608 - val_accuracy: 0.8105\n",
      "Epoch 21/30\n",
      "7/7 [==============================] - 0s 7ms/step - loss: 0.1966 - accuracy: 0.9543 - val_loss: 0.3666 - val_accuracy: 0.9368\n",
      "Epoch 22/30\n",
      "7/7 [==============================] - 0s 7ms/step - loss: 0.1857 - accuracy: 0.9589 - val_loss: 0.6340 - val_accuracy: 0.6526\n",
      "Epoch 23/30\n",
      "7/7 [==============================] - 0s 6ms/step - loss: 0.1781 - accuracy: 0.9452 - val_loss: 0.7588 - val_accuracy: 0.5895\n",
      "Epoch 24/30\n",
      "7/7 [==============================] - 0s 7ms/step - loss: 0.1653 - accuracy: 0.9543 - val_loss: 0.8326 - val_accuracy: 0.5368\n",
      "Epoch 25/30\n",
      "7/7 [==============================] - 0s 7ms/step - loss: 0.1709 - accuracy: 0.9543 - val_loss: 0.6255 - val_accuracy: 0.6737\n",
      "Epoch 26/30\n",
      "7/7 [==============================] - 0s 6ms/step - loss: 0.1256 - accuracy: 0.9863 - val_loss: 0.4536 - val_accuracy: 0.7263\n",
      "Epoch 27/30\n",
      "7/7 [==============================] - 0s 6ms/step - loss: 0.1336 - accuracy: 0.9772 - val_loss: 0.5767 - val_accuracy: 0.6842\n",
      "Epoch 28/30\n",
      "7/7 [==============================] - 0s 7ms/step - loss: 0.1052 - accuracy: 0.9909 - val_loss: 0.3397 - val_accuracy: 0.8421\n",
      "Epoch 29/30\n",
      "7/7 [==============================] - 0s 6ms/step - loss: 0.1011 - accuracy: 0.9817 - val_loss: 0.2973 - val_accuracy: 0.9053\n",
      "Epoch 30/30\n",
      "7/7 [==============================] - 0s 7ms/step - loss: 0.0798 - accuracy: 0.9909 - val_loss: 0.1568 - val_accuracy: 0.9895\n"
     ]
    },
    {
     "data": {
      "text/plain": [
       "<keras.callbacks.History at 0x7f718c6a5520>"
      ]
     },
     "execution_count": 27,
     "metadata": {},
     "output_type": "execute_result"
    }
   ],
   "source": [
    "model.fit(x_train_norm, y_train, epochs=30, validation_split=0.3)"
   ]
  },
  {
   "cell_type": "code",
   "execution_count": null,
   "id": "4197da40",
   "metadata": {},
   "outputs": [],
   "source": [
    "회고\n",
    "\n",
    "가위바위보 사진들은 같은 수업을 수강하는 선아님의 사진들을 받아서 사용했다. \n",
    "처음 해보는 프로젝트라 쉽지 않았다. \n"
   ]
  }
 ],
 "metadata": {
  "kernelspec": {
   "display_name": "Python 3 (ipykernel)",
   "language": "python",
   "name": "python3"
  },
  "language_info": {
   "codemirror_mode": {
    "name": "ipython",
    "version": 3
   },
   "file_extension": ".py",
   "mimetype": "text/x-python",
   "name": "python",
   "nbconvert_exporter": "python",
   "pygments_lexer": "ipython3",
   "version": "3.9.7"
  }
 },
 "nbformat": 4,
 "nbformat_minor": 5
}
